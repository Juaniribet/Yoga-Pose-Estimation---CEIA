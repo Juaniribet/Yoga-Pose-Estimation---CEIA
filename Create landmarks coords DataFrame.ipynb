{
 "cells": [
  {
   "attachments": {},
   "cell_type": "markdown",
   "metadata": {},
   "source": [
    "## Creates a .csv file with the landmarks coordinates obtained from images or videos"
   ]
  },
  {
   "cell_type": "code",
   "execution_count": 1,
   "metadata": {},
   "outputs": [],
   "source": [
    "#Import requirements libraries\n",
    "\n",
    "import cv2\n",
    "import mediapipe as mp\n",
    "import os\n",
    "import pathlib\n",
    "import csv\n",
    "import numpy as np\n",
    "from glob import iglob"
   ]
  },
  {
   "cell_type": "code",
   "execution_count": 2,
   "metadata": {},
   "outputs": [],
   "source": [
    "class GetCoordsLandmarks():\n",
    "\n",
    "    '''class to obtain the coordinates of the landmarks form body images or videos using MediaPipe-Pose library'''\n",
    "    \n",
    "    def __init__(self):\n",
    "                \n",
    "        self.file_list_used= []\n",
    "        self.mp_pose = mp.solutions.pose # Mediapipe Solutions\n",
    "        pass\n",
    "    \n",
    "    def create_csv_file(self, file_name: str):\n",
    "\n",
    "        '''\"file_name\": The name of the csv file as it will be stored. (\"file_name.csv\").'''\n",
    "\n",
    "        self.file_name = file_name + '.csv'\n",
    "       \n",
    "        landmarks = ['class']\n",
    "        for val in range(1, 34):\n",
    "            landmarks += ['x{}'.format(val), 'y{}'.format(val), 'z{}'.format(val), 'v{}'.format(val)]\n",
    "        \n",
    "        with open(file_name + '.csv', mode='w', newline='') as f:\n",
    "            csv_writer = csv.writer(f, delimiter=',', quotechar='\"', quoting=csv.QUOTE_MINIMAL)\n",
    "            csv_writer.writerow(landmarks) \n",
    "\n",
    "    \n",
    "    def get_coord(self, rootdir: str, class_name = None, file_name = None, min_detection_confidence=0.6, min_tracking_confidence=0.6):\n",
    "\n",
    "        '''\n",
    "        Create a dataset with the coord of the landmarks of the images or videos stored in \"rootdir\"\n",
    "\n",
    "        \"rootdir\": Path of the folder where the images or videos are stored.\n",
    "\n",
    "        \"class_name\" : str, default = None - If not given, will be the folder name where the images or video are stored.\n",
    "\n",
    "        \"file_name\" : str, default = None - If not given, the file created in \"create_csv_file()\" will be used.\n",
    "\n",
    "        \"min_detection_confidence\" : mp_pose min_detection_confidence (default = 0.6).\n",
    "\n",
    "        \"min_tracking_confidence\": mp_pose min_detection_confidence (default = 0.6).\n",
    "        \n",
    "        '''\n",
    "\n",
    "        self.rootdir_glob = rootdir\n",
    "\n",
    "        if file_name == None:\n",
    "            file_name = self.file_name\n",
    "\n",
    "        path_files_list = [f for f in iglob(rootdir, recursive=True) if os.path.isfile(f)]\n",
    "    \n",
    "        for path in path_files_list:\n",
    "\n",
    "            if class_name == None:        \n",
    "                class_name = pathlib.PurePath(os.path.normpath(path))\n",
    "                class_name = class_name.parent.name\n",
    "            \n",
    "            cap = cv2.VideoCapture(path)\n",
    "\n",
    "            with self.mp_pose.Pose(min_detection_confidence=min_detection_confidence, min_tracking_confidence=min_tracking_confidence) as pose:\n",
    "                \n",
    "                while cap.isOpened():\n",
    "                    ret, frame = cap.read()\n",
    "\n",
    "                    if frame is None:\n",
    "                        break\n",
    "                    \n",
    "                    # Recolor Feed\n",
    "                    image = cv2.cvtColor(frame, cv2.COLOR_BGR2RGB)\n",
    "                    image.flags.writeable = False        \n",
    "                    \n",
    "                    # Make Detections\n",
    "                    results = pose.process(image)\n",
    "                   \n",
    "                    # Recolor image back to BGR for rendering\n",
    "                    image.flags.writeable = True   \n",
    "                    image = cv2.cvtColor(image, cv2.COLOR_RGB2BGR)\n",
    "                    \n",
    "                    # Export coordinates\n",
    "                    try:\n",
    "                        # Extract Pose landmarks\n",
    "                        poses = results.pose_landmarks.landmark\n",
    "                        pose_row = list(np.array([[landmark.x, landmark.y, landmark.z, landmark.visibility] for landmark in poses]).flatten())\n",
    "                      \n",
    "                        # Append class name\n",
    "                        pose_row.insert(0, class_name)\n",
    "                        self.file_list_used.append(path)\n",
    "                        \n",
    "                        # Export to CSV\n",
    "                        with open(file_name, mode='a', newline='') as f:\n",
    "                            csv_writer = csv.writer(f, delimiter=',', quotechar='\"', quoting=csv.QUOTE_MINIMAL)\n",
    "                            csv_writer.writerow(pose_row) \n",
    "                        \n",
    "                    except:\n",
    "                        pass\n",
    "                                    \n",
    "                    #cv2.imshow('Video', image)\n",
    "\n",
    "                    if cv2.waitKey(10) & 0xFF == ord('q'):\n",
    "                        break\n",
    "\n",
    "            cap.release()\n",
    "            cv2.destroyAllWindows()\n",
    "        \n",
    "    def bad_images(self):\n",
    "\n",
    "        '''Return the images that are bad for detection'''\n",
    "    \n",
    "        path_files_list = [f for f in iglob(self.rootdir_glob, recursive=True) if os.path.isfile(f)]\n",
    "        \n",
    "\n",
    "        images_not_used=[]\n",
    "        for j in path_files_list:\n",
    "            if j not in self.file_list_used:\n",
    "                images_not_used.append(j)\n",
    "        \n",
    "        print(f'{len(images_not_used)} bad images of {len(path_files_list)}')\n",
    "\n",
    "        return images_not_used\n",
    "    "
   ]
  },
  {
   "cell_type": "code",
   "execution_count": 3,
   "metadata": {},
   "outputs": [],
   "source": [
    "get_data = GetCoordsLandmarks()"
   ]
  },
  {
   "cell_type": "code",
   "execution_count": 4,
   "metadata": {},
   "outputs": [],
   "source": [
    "get_data.create_csv_file('df_dog')"
   ]
  },
  {
   "cell_type": "code",
   "execution_count": 6,
   "metadata": {},
   "outputs": [],
   "source": [
    "get_data.get_coord('Data\\imagenes\\perro\\*', class_name='dog')"
   ]
  },
  {
   "cell_type": "code",
   "execution_count": 7,
   "metadata": {},
   "outputs": [
    {
     "name": "stdout",
     "output_type": "stream",
     "text": [
      "29 bad images of 602\n"
     ]
    },
    {
     "data": {
      "text/plain": [
       "['Data\\\\imagenes\\\\perro\\\\00000010.png',\n",
       " 'Data\\\\imagenes\\\\perro\\\\00000035.jpg',\n",
       " 'Data\\\\imagenes\\\\perro\\\\00000042.jpg',\n",
       " 'Data\\\\imagenes\\\\perro\\\\00000080.jpg',\n",
       " 'Data\\\\imagenes\\\\perro\\\\00000120.jpg',\n",
       " 'Data\\\\imagenes\\\\perro\\\\00000135.jpg',\n",
       " 'Data\\\\imagenes\\\\perro\\\\00000147.jpg',\n",
       " 'Data\\\\imagenes\\\\perro\\\\00000168.jpg',\n",
       " 'Data\\\\imagenes\\\\perro\\\\00000173.jpg',\n",
       " 'Data\\\\imagenes\\\\perro\\\\00000188.png',\n",
       " 'Data\\\\imagenes\\\\perro\\\\00000212.png',\n",
       " 'Data\\\\imagenes\\\\perro\\\\00000220.jpg',\n",
       " 'Data\\\\imagenes\\\\perro\\\\00000221.jpg',\n",
       " 'Data\\\\imagenes\\\\perro\\\\00000223.jpg',\n",
       " 'Data\\\\imagenes\\\\perro\\\\00000224.jpg',\n",
       " 'Data\\\\imagenes\\\\perro\\\\00000232.jpg',\n",
       " 'Data\\\\imagenes\\\\perro\\\\00000234.jpg',\n",
       " 'Data\\\\imagenes\\\\perro\\\\00000235.jpg',\n",
       " 'Data\\\\imagenes\\\\perro\\\\00000239.jpg',\n",
       " 'Data\\\\imagenes\\\\perro\\\\00000270.jpg',\n",
       " 'Data\\\\imagenes\\\\perro\\\\00000281.jpg',\n",
       " 'Data\\\\imagenes\\\\perro\\\\00000298.jpg',\n",
       " 'Data\\\\imagenes\\\\perro\\\\00000304.jpg',\n",
       " 'Data\\\\imagenes\\\\perro\\\\00000315.jpg',\n",
       " 'Data\\\\imagenes\\\\perro\\\\00000322.jpg',\n",
       " 'Data\\\\imagenes\\\\perro\\\\00000340.jpg',\n",
       " 'Data\\\\imagenes\\\\perro\\\\00000352.png',\n",
       " 'Data\\\\imagenes\\\\perro\\\\00000367.png',\n",
       " 'Data\\\\imagenes\\\\perro\\\\girl2_dog104.jpg']"
      ]
     },
     "execution_count": 7,
     "metadata": {},
     "output_type": "execute_result"
    }
   ],
   "source": [
    "get_data.bad_images()"
   ]
  },
  {
   "cell_type": "code",
   "execution_count": 8,
   "metadata": {},
   "outputs": [],
   "source": [
    "get_data.get_coord('Data\\Videos\\perro\\*', class_name='perro', file_name='df_dog.csv')"
   ]
  }
 ],
 "metadata": {
  "kernelspec": {
   "display_name": "py310",
   "language": "python",
   "name": "python3"
  },
  "language_info": {
   "codemirror_mode": {
    "name": "ipython",
    "version": 3
   },
   "file_extension": ".py",
   "mimetype": "text/x-python",
   "name": "python",
   "nbconvert_exporter": "python",
   "pygments_lexer": "ipython3",
   "version": "3.10.11"
  },
  "orig_nbformat": 4
 },
 "nbformat": 4,
 "nbformat_minor": 2
}
